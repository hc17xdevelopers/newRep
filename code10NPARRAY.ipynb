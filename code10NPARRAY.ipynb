{
 "cells": [
  {
   "cell_type": "code",
   "execution_count": null,
   "metadata": {},
   "outputs": [],
   "source": [
    "import os\n",
    "import numpy as np\n",
    "\n",
    "# ... (Your existing imports)\n",
    "\n",
    "model_path = '/home/agrotech/deep-gauge-master/Reading_Circular_Analogue_Gauges_using_Digital_Image_Processing/model_weights/pose_gauge.pt'\n",
    "img_folder = '/path/to/your/images/folder'  # Update this to the path of your image folder\n",
    "output_npy_path = 'angles_results.npy'\n",
    "\n",
    "# Initialize an empty list to store results\n",
    "all_results_list = []\n",
    "\n",
    "for file_name in os.listdir(img_folder):\n",
    "    if file_name.endswith(('.jpg', '.png', '.jpeg')):  # Add other image formats if needed\n",
    "        img_path = os.path.join(img_folder, file_name)\n",
    "        image_output = calculate_pointer_angle(img_path)\n",
    "\n",
    "        # Append the data for each image to the list\n",
    "        all_results_list.append({'File': file_name, 'Angle_ABC': image_output[0], 'Angle_BDC': image_output[1]})\n",
    "\n",
    "# Convert the list of dictionaries to a NumPy array\n",
    "all_results_array = np.array(all_results_list, dtype=[('File', 'U50'), ('Angle_ABC', float), ('Angle_BDC', float)])\n",
    "\n",
    "# Save the NumPy array to a .npy file\n",
    "np.save(output_npy_path, all_results_array)\n"
   ]
  }
 ],
 "metadata": {
  "language_info": {
   "name": "python"
  }
 },
 "nbformat": 4,
 "nbformat_minor": 2
}
