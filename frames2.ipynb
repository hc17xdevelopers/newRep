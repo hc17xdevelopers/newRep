{
 "cells": [
  {
   "cell_type": "code",
   "execution_count": 5,
   "metadata": {},
   "outputs": [
    {
     "name": "stdout",
     "output_type": "stream",
     "text": [
      "300\n"
     ]
    }
   ],
   "source": [
    "# Total Frames in a Video\n",
    "import cv2\n",
    "\n",
    "cap = cv2.VideoCapture(\"/media/hc17/I1/Frames_Extract/87_Countdown.mov\")\n",
    "length = int(cap.get(cv2.CAP_PROP_FRAME_COUNT))\n",
    "print( length )"
   ]
  },
  {
   "cell_type": "code",
   "execution_count": 6,
   "metadata": {},
   "outputs": [],
   "source": [
    "# every 6th frame pictur e of the video"
   ]
  },
  {
   "cell_type": "code",
   "execution_count": 4,
   "metadata": {},
   "outputs": [
    {
     "name": "stdout",
     "output_type": "stream",
     "text": [
      "Creating..../data/frame0.jpg\n",
      "Creating..../data/frame6.jpg\n",
      "Creating..../data/frame12.jpg\n",
      "Creating..../data/frame18.jpg\n",
      "Creating..../data/frame24.jpg\n",
      "Creating..../data/frame30.jpg\n",
      "Creating..../data/frame36.jpg\n",
      "Creating..../data/frame42.jpg\n",
      "Creating..../data/frame48.jpg\n",
      "Creating..../data/frame54.jpg\n",
      "Creating..../data/frame60.jpg\n",
      "Creating..../data/frame66.jpg\n",
      "Creating..../data/frame72.jpg\n",
      "Creating..../data/frame78.jpg\n",
      "Creating..../data/frame84.jpg\n",
      "Creating..../data/frame90.jpg\n",
      "Creating..../data/frame96.jpg\n",
      "Creating..../data/frame102.jpg\n",
      "Creating..../data/frame108.jpg\n",
      "Creating..../data/frame114.jpg\n",
      "Creating..../data/frame120.jpg\n",
      "Creating..../data/frame126.jpg\n",
      "Creating..../data/frame132.jpg\n",
      "Creating..../data/frame138.jpg\n",
      "Creating..../data/frame144.jpg\n",
      "Creating..../data/frame150.jpg\n",
      "Creating..../data/frame156.jpg\n",
      "Creating..../data/frame162.jpg\n",
      "Creating..../data/frame168.jpg\n",
      "Creating..../data/frame174.jpg\n",
      "Creating..../data/frame180.jpg\n",
      "Creating..../data/frame186.jpg\n",
      "Creating..../data/frame192.jpg\n",
      "Creating..../data/frame198.jpg\n",
      "Creating..../data/frame204.jpg\n",
      "Creating..../data/frame210.jpg\n",
      "Creating..../data/frame216.jpg\n",
      "Creating..../data/frame222.jpg\n",
      "Creating..../data/frame228.jpg\n",
      "Creating..../data/frame234.jpg\n",
      "Creating..../data/frame240.jpg\n",
      "Creating..../data/frame246.jpg\n",
      "Creating..../data/frame252.jpg\n",
      "Creating..../data/frame258.jpg\n",
      "Creating..../data/frame264.jpg\n",
      "Creating..../data/frame270.jpg\n",
      "Creating..../data/frame276.jpg\n",
      "Creating..../data/frame282.jpg\n",
      "Creating..../data/frame288.jpg\n",
      "Creating..../data/frame294.jpg\n"
     ]
    }
   ],
   "source": [
    "# Importing all necessary libraries \n",
    "import cv2 \n",
    "import os \n",
    "\n",
    "# Read the video from specified path \n",
    "cam = cv2.VideoCapture(\"/media/hc17/I1/Frames_Extract/87_Countdown.mov\") \n",
    "\n",
    "try: \n",
    "    # creating a folder named data \n",
    "    if not os.path.exists('data'): \n",
    "        os.makedirs('data') \n",
    "\n",
    "# if not created then raise error \n",
    "except OSError: \n",
    "    print ('Error: Creating directory of data') \n",
    "\n",
    "# frame \n",
    "\n",
    "\n",
    "currentframe = 0\n",
    "frame_interval = 6  # Capture every 6th frame\n",
    "\n",
    "while(True): \n",
    "    # reading from frame \n",
    "    ret, frame = cam.read() \n",
    "\n",
    "    if ret: \n",
    "        # if video is still left continue creating images \n",
    "        if currentframe % frame_interval == 0:\n",
    "            name = './data/frame' + str(currentframe) + '.jpg'\n",
    "            print('Creating...' + name) \n",
    "\n",
    "            # writing the extracted images \n",
    "            cv2.imwrite(name, frame) \n",
    "\n",
    "        # increasing counter so that it will \n",
    "        # show how many frames are created \n",
    "        currentframe += 1\n",
    "    else: \n",
    "        break\n",
    "\n",
    "# Release all space and windows once done \n",
    "cam.release() \n",
    "cv2.destroyAllWindows()\n"
   ]
  },
  {
   "cell_type": "code",
   "execution_count": null,
   "metadata": {},
   "outputs": [],
   "source": []
  }
 ],
 "metadata": {
  "kernelspec": {
   "display_name": "Python 3",
   "language": "python",
   "name": "python3"
  },
  "language_info": {
   "codemirror_mode": {
    "name": "ipython",
    "version": 3
   },
   "file_extension": ".py",
   "mimetype": "text/x-python",
   "name": "python",
   "nbconvert_exporter": "python",
   "pygments_lexer": "ipython3",
   "version": "3.10.12"
  }
 },
 "nbformat": 4,
 "nbformat_minor": 2
}
