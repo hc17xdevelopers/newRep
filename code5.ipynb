{
 "cells": [
  {
   "cell_type": "code",
   "execution_count": 35,
   "metadata": {},
   "outputs": [],
   "source": [
    "import os\n",
    "import sys\n",
    "import argparse\n",
    "import torch\n",
    "import cv2\n",
    "import time\n",
    "import re\n",
    "import numpy as np\n",
    "from ultralytics import YOLO\n",
    "import math\n",
    "from typing import List\n",
    "import pandas as pd"
   ]
  },
  {
   "cell_type": "code",
   "execution_count": 43,
   "metadata": {},
   "outputs": [],
   "source": [
    "model_path = '/home/varun/Desktop/KeyPointDetection/runs/pose/train16/weights/best.pt'\n",
    "img_folder = '/home/varun/Desktop/KeyPointDetection/runs/pose/train16/Frames_Images/data_one/data'  # Update this to the path of your image folder\n",
    "output_excel_path = 'angles_results1.xlsx'\n"
   ]
  },
  {
   "cell_type": "code",
   "execution_count": 45,
   "metadata": {},
   "outputs": [],
   "source": [
    "all_results_df = pd.DataFrame(columns=['File', 'Angle_ABC', 'Angle_BDC'])"
   ]
  },
  {
   "cell_type": "code",
   "execution_count": 46,
   "metadata": {},
   "outputs": [],
   "source": [
    "def compute_angle(A, B, C):\n",
    "    # Vectors for BA and BC\n",
    "    a = [A[0] - B[0], A[1] - B[1]]\n",
    "    b = [C[0] - B[0], C[1] - B[1]]\n",
    "    c = [A[0] - C[0], A[1] - C[1]]\n",
    "\n",
    "    # Magnitudes (lengths) of BA, BC, and AC\n",
    "    ma = math.sqrt(a[0] ** 2 + a[1] ** 2)\n",
    "    mb = math.sqrt(b[0] ** 2 + b[1] ** 2)\n",
    "    mc = math.sqrt(c[0] ** 2 + c[1] ** 2)\n",
    "\n",
    "    print(ma)\n",
    "    print(mb)\n",
    "    print(mc)\n",
    "    # Using the law of cosines to find the angle at B\n",
    "    cosB = (ma ** 2 + mc ** 2 - mb ** 2) / (2 * ma * mc)\n",
    "\n",
    "    # Angle in radians\n",
    "    angle = math.acos(cosB)\n",
    "\n",
    "    # Convert angle to degrees\n",
    "    angle_deg = math.degrees(angle)\n",
    "\n",
    "    return angle_deg"
   ]
  },
  {
   "cell_type": "code",
   "execution_count": 47,
   "metadata": {},
   "outputs": [],
   "source": [
    "def calculate_pointer_angle(img_path):\n",
    "    # Calculates the Pointer Angle\n",
    "    # separate coordinates from box\n",
    "\n",
    "    # Detect the gauge and get the pointer angle\n",
    "    model1 = YOLO(model_path)\n",
    "    results = model1(img_path)\n",
    "    theta1 = None  # Initialize with a default value\n",
    "    theta2 = None  # Initialize with a default value\n",
    "\n",
    "    for result in results:\n",
    "        keypoints_set = result.keypoints.xy.cpu().numpy()\n",
    "        print(keypoints_set)\n",
    "\n",
    "        # Check if keypoints_set is empty\n",
    "        if keypoints_set.size == 0:\n",
    "            print('No Key Point Detected')\n",
    "            theta1 = 0\n",
    "            theta2 = 45\n",
    "            break\n",
    "\n",
    "        # Check if there are at least 4 keypoints in the set\n",
    "        if keypoints_set.shape[1] < 4:\n",
    "            print('Not enough keypoints detected')\n",
    "            break\n",
    "\n",
    "        print(keypoints_set[0])\n",
    "        A, B, C, D = keypoints_set[0][0], keypoints_set[0][1], keypoints_set[0][3], keypoints_set[0][2]\n",
    "        print(keypoints_set[0])\n",
    "        print(f\"A is {A[1]}\")\n",
    "        print(f\"B is {B[1]}\")\n",
    "        print(f\"C is {C[1]}\")\n",
    "\n",
    "        theta1 = compute_angle(A, B, C)\n",
    "        theta2 = 360 - compute_angle(B, D, C)\n",
    "\n",
    "        print(f\"Angle between keypoints A, B, and C is: {theta1:.2f} degrees\")\n",
    "        print(f\"Angle between keypoints B, C, and D is: {theta2:.2f} degrees\")\n",
    "    return theta1, theta2"
   ]
  },
  {
   "cell_type": "code",
   "execution_count": 48,
   "metadata": {},
   "outputs": [],
   "source": [
    "def save_to_excel(file_name, angle_ABC, angle_BDC):\n",
    "    global all_results_df\n",
    "    data = {'File': [file_name], 'Angle_ABC': [angle_ABC], 'Angle_BDC': [angle_BDC]}\n",
    "    df = pd.DataFrame(data)\n",
    "    \n",
    "    # Append to the global DataFrame\n",
    "    all_results_df = all_results_df.append(df, ignore_index=True)\n",
    "\n",
    "    # Save to Excel\n",
    "    all_results_df.to_excel(output_excel_path, index=False)"
   ]
  },
  {
   "cell_type": "code",
   "execution_count": 49,
   "metadata": {},
   "outputs": [
    {
     "name": "stdout",
     "output_type": "stream",
     "text": [
      "\n",
      "image 1/1 /home/varun/Desktop/KeyPointDetection/runs/pose/train16/Frames_Images/data_one/data/frame7116.jpg: 640x640 2 KEYPOINT_SKELETONs, 26.1ms\n",
      "Speed: 3.0ms preprocess, 26.1ms inference, 1.4ms postprocess per image at shape (1, 3, 640, 640)\n",
      "[[[     245.77      252.21]\n",
      "  [     147.96      357.58]\n",
      "  [     355.31      339.78]\n",
      "  [     121.88      326.37]]\n",
      "\n",
      " [[      187.1      270.81]\n",
      "  [     115.55      341.76]\n",
      "  [     254.31      338.79]\n",
      "  [     77.499       288.3]]]\n",
      "[[     245.77      252.21]\n",
      " [     147.96      357.58]\n",
      " [     355.31      339.78]\n",
      " [     121.88      326.37]]\n",
      "[[     245.77      252.21]\n",
      " [     147.96      357.58]\n",
      " [     355.31      339.78]\n",
      " [     121.88      326.37]]\n",
      "A is 252.21292114257812\n",
      "B is 357.576904296875\n",
      "C is 326.3743591308594\n",
      "143.76586611126584\n",
      "40.66807925221532\n",
      "144.3938527454585\n",
      "208.1092414036149\n",
      "233.81412156761678\n",
      "40.66807925221532\n",
      "Angle between keypoints A, B, and C is: 16.22 degrees\n",
      "Angle between keypoints B, C, and D is: 235.01 degrees\n"
     ]
    },
    {
     "ename": "AttributeError",
     "evalue": "'DataFrame' object has no attribute 'append'",
     "output_type": "error",
     "traceback": [
      "\u001b[0;31m---------------------------------------------------------------------------\u001b[0m",
      "\u001b[0;31mAttributeError\u001b[0m                            Traceback (most recent call last)",
      "\u001b[0;32m/tmp/ipykernel_511756/2366862663.py\u001b[0m in \u001b[0;36m?\u001b[0;34m()\u001b[0m\n\u001b[1;32m      2\u001b[0m     \u001b[0;32mfor\u001b[0m \u001b[0mfile_name\u001b[0m \u001b[0;32min\u001b[0m \u001b[0mos\u001b[0m\u001b[0;34m.\u001b[0m\u001b[0mlistdir\u001b[0m\u001b[0;34m(\u001b[0m\u001b[0mimg_folder\u001b[0m\u001b[0;34m)\u001b[0m\u001b[0;34m:\u001b[0m\u001b[0;34m\u001b[0m\u001b[0;34m\u001b[0m\u001b[0m\n\u001b[1;32m      3\u001b[0m         \u001b[0;32mif\u001b[0m \u001b[0mfile_name\u001b[0m\u001b[0;34m.\u001b[0m\u001b[0mendswith\u001b[0m\u001b[0;34m(\u001b[0m\u001b[0;34m(\u001b[0m\u001b[0;34m'.jpg'\u001b[0m\u001b[0;34m,\u001b[0m \u001b[0;34m'.png'\u001b[0m\u001b[0;34m,\u001b[0m \u001b[0;34m'.jpeg'\u001b[0m\u001b[0;34m)\u001b[0m\u001b[0;34m)\u001b[0m\u001b[0;34m:\u001b[0m  \u001b[0;31m# Add other image formats if needed\u001b[0m\u001b[0;34m\u001b[0m\u001b[0;34m\u001b[0m\u001b[0m\n\u001b[1;32m      4\u001b[0m             \u001b[0mimg_path\u001b[0m \u001b[0;34m=\u001b[0m \u001b[0mos\u001b[0m\u001b[0;34m.\u001b[0m\u001b[0mpath\u001b[0m\u001b[0;34m.\u001b[0m\u001b[0mjoin\u001b[0m\u001b[0;34m(\u001b[0m\u001b[0mimg_folder\u001b[0m\u001b[0;34m,\u001b[0m \u001b[0mfile_name\u001b[0m\u001b[0;34m)\u001b[0m\u001b[0;34m\u001b[0m\u001b[0;34m\u001b[0m\u001b[0m\n\u001b[1;32m      5\u001b[0m             \u001b[0mimage_output\u001b[0m \u001b[0;34m=\u001b[0m \u001b[0mcalculate_pointer_angle\u001b[0m\u001b[0;34m(\u001b[0m\u001b[0mimg_path\u001b[0m\u001b[0;34m)\u001b[0m\u001b[0;34m\u001b[0m\u001b[0;34m\u001b[0m\u001b[0m\n\u001b[0;32m----> 6\u001b[0;31m             \u001b[0msave_to_excel\u001b[0m\u001b[0;34m(\u001b[0m\u001b[0mfile_name\u001b[0m\u001b[0;34m,\u001b[0m \u001b[0;34m*\u001b[0m\u001b[0mimage_output\u001b[0m\u001b[0;34m)\u001b[0m\u001b[0;34m\u001b[0m\u001b[0;34m\u001b[0m\u001b[0m\n\u001b[0m",
      "\u001b[0;32m/tmp/ipykernel_511756/3981200656.py\u001b[0m in \u001b[0;36m?\u001b[0;34m(file_name, angle_ABC, angle_BDC)\u001b[0m\n\u001b[1;32m      3\u001b[0m     \u001b[0mdata\u001b[0m \u001b[0;34m=\u001b[0m \u001b[0;34m{\u001b[0m\u001b[0;34m'File'\u001b[0m\u001b[0;34m:\u001b[0m \u001b[0;34m[\u001b[0m\u001b[0mfile_name\u001b[0m\u001b[0;34m]\u001b[0m\u001b[0;34m,\u001b[0m \u001b[0;34m'Angle_ABC'\u001b[0m\u001b[0;34m:\u001b[0m \u001b[0;34m[\u001b[0m\u001b[0mangle_ABC\u001b[0m\u001b[0;34m]\u001b[0m\u001b[0;34m,\u001b[0m \u001b[0;34m'Angle_BDC'\u001b[0m\u001b[0;34m:\u001b[0m \u001b[0;34m[\u001b[0m\u001b[0mangle_BDC\u001b[0m\u001b[0;34m]\u001b[0m\u001b[0;34m}\u001b[0m\u001b[0;34m\u001b[0m\u001b[0;34m\u001b[0m\u001b[0m\n\u001b[1;32m      4\u001b[0m     \u001b[0mdf\u001b[0m \u001b[0;34m=\u001b[0m \u001b[0mpd\u001b[0m\u001b[0;34m.\u001b[0m\u001b[0mDataFrame\u001b[0m\u001b[0;34m(\u001b[0m\u001b[0mdata\u001b[0m\u001b[0;34m)\u001b[0m\u001b[0;34m\u001b[0m\u001b[0;34m\u001b[0m\u001b[0m\n\u001b[1;32m      5\u001b[0m \u001b[0;34m\u001b[0m\u001b[0m\n\u001b[1;32m      6\u001b[0m     \u001b[0;31m# Append to the global DataFrame\u001b[0m\u001b[0;34m\u001b[0m\u001b[0;34m\u001b[0m\u001b[0;34m\u001b[0m\u001b[0m\n\u001b[0;32m----> 7\u001b[0;31m     \u001b[0mall_results_df\u001b[0m \u001b[0;34m=\u001b[0m \u001b[0mall_results_df\u001b[0m\u001b[0;34m.\u001b[0m\u001b[0mappend\u001b[0m\u001b[0;34m(\u001b[0m\u001b[0mdf\u001b[0m\u001b[0;34m,\u001b[0m \u001b[0mignore_index\u001b[0m\u001b[0;34m=\u001b[0m\u001b[0;32mTrue\u001b[0m\u001b[0;34m)\u001b[0m\u001b[0;34m\u001b[0m\u001b[0;34m\u001b[0m\u001b[0m\n\u001b[0m\u001b[1;32m      8\u001b[0m \u001b[0;34m\u001b[0m\u001b[0m\n\u001b[1;32m      9\u001b[0m     \u001b[0;31m# Save to Excel\u001b[0m\u001b[0;34m\u001b[0m\u001b[0;34m\u001b[0m\u001b[0;34m\u001b[0m\u001b[0m\n\u001b[1;32m     10\u001b[0m     \u001b[0mall_results_df\u001b[0m\u001b[0;34m.\u001b[0m\u001b[0mto_excel\u001b[0m\u001b[0;34m(\u001b[0m\u001b[0moutput_excel_path\u001b[0m\u001b[0;34m,\u001b[0m \u001b[0mindex\u001b[0m\u001b[0;34m=\u001b[0m\u001b[0;32mFalse\u001b[0m\u001b[0;34m)\u001b[0m\u001b[0;34m\u001b[0m\u001b[0;34m\u001b[0m\u001b[0m\n",
      "\u001b[0;32m~/anaconda3/envs/yolov8/lib/python3.9/site-packages/pandas/core/generic.py\u001b[0m in \u001b[0;36m?\u001b[0;34m(self, name)\u001b[0m\n\u001b[1;32m   5985\u001b[0m             \u001b[0;32mand\u001b[0m \u001b[0mname\u001b[0m \u001b[0;32mnot\u001b[0m \u001b[0;32min\u001b[0m \u001b[0mself\u001b[0m\u001b[0;34m.\u001b[0m\u001b[0m_accessors\u001b[0m\u001b[0;34m\u001b[0m\u001b[0;34m\u001b[0m\u001b[0m\n\u001b[1;32m   5986\u001b[0m             \u001b[0;32mand\u001b[0m \u001b[0mself\u001b[0m\u001b[0;34m.\u001b[0m\u001b[0m_info_axis\u001b[0m\u001b[0;34m.\u001b[0m\u001b[0m_can_hold_identifiers_and_holds_name\u001b[0m\u001b[0;34m(\u001b[0m\u001b[0mname\u001b[0m\u001b[0;34m)\u001b[0m\u001b[0;34m\u001b[0m\u001b[0;34m\u001b[0m\u001b[0m\n\u001b[1;32m   5987\u001b[0m         ):\n\u001b[1;32m   5988\u001b[0m             \u001b[0;32mreturn\u001b[0m \u001b[0mself\u001b[0m\u001b[0;34m[\u001b[0m\u001b[0mname\u001b[0m\u001b[0;34m]\u001b[0m\u001b[0;34m\u001b[0m\u001b[0;34m\u001b[0m\u001b[0m\n\u001b[0;32m-> 5989\u001b[0;31m         \u001b[0;32mreturn\u001b[0m \u001b[0mobject\u001b[0m\u001b[0;34m.\u001b[0m\u001b[0m__getattribute__\u001b[0m\u001b[0;34m(\u001b[0m\u001b[0mself\u001b[0m\u001b[0;34m,\u001b[0m \u001b[0mname\u001b[0m\u001b[0;34m)\u001b[0m\u001b[0;34m\u001b[0m\u001b[0;34m\u001b[0m\u001b[0m\n\u001b[0m",
      "\u001b[0;31mAttributeError\u001b[0m: 'DataFrame' object has no attribute 'append'"
     ]
    }
   ],
   "source": [
    "if __name__ == \"__main__\":\n",
    "    for file_name in os.listdir(img_folder):\n",
    "        if file_name.endswith(('.jpg', '.png', '.jpeg')):  # Add other image formats if needed\n",
    "            img_path = os.path.join(img_folder, file_name)\n",
    "            image_output = calculate_pointer_angle(img_path)\n",
    "            save_to_excel(file_name, *image_output)"
   ]
  },
  {
   "cell_type": "code",
   "execution_count": null,
   "metadata": {},
   "outputs": [],
   "source": []
  }
 ],
 "metadata": {
  "kernelspec": {
   "display_name": "yolov8",
   "language": "python",
   "name": "python3"
  },
  "language_info": {
   "codemirror_mode": {
    "name": "ipython",
    "version": 3
   },
   "file_extension": ".py",
   "mimetype": "text/x-python",
   "name": "python",
   "nbconvert_exporter": "python",
   "pygments_lexer": "ipython3",
   "version": "3.9.0"
  },
  "orig_nbformat": 4
 },
 "nbformat": 4,
 "nbformat_minor": 2
}
