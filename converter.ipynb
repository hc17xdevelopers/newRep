{
 "cells": [
  {
   "cell_type": "code",
   "execution_count": 5,
   "id": "30211e65-a67b-461d-bab5-93c389cc0ed9",
   "metadata": {},
   "outputs": [],
   "source": [
    "\n",
    "import json\n",
    "import cv2\n",
    "import os\n",
    "import matplotlib.pyplot as plt\n",
    "import shutil"
   ]
  },
  {
   "cell_type": "code",
   "execution_count": 1,
   "id": "e8c2a6a4-f49f-40a9-a25c-f1e132235153",
   "metadata": {},
   "outputs": [],
   "source": [
    "input_path = \"kpoints.json\""
   ]
  },
  {
   "cell_type": "code",
   "execution_count": 2,
   "id": "dc7568ee-daf8-4641-b1ba-d8c788c849b5",
   "metadata": {},
   "outputs": [],
   "source": [
    "output_path = \"opFolder/\""
   ]
  },
  {
   "cell_type": "code",
   "execution_count": 3,
   "id": "98fce021-ed82-4a8b-a413-61f45327e33a",
   "metadata": {},
   "outputs": [],
   "source": [
    "f = open('kpoints.json')"
   ]
  },
  {
   "cell_type": "code",
   "execution_count": 6,
   "id": "92954115-4d6f-4810-9059-9a83798cf5bf",
   "metadata": {},
   "outputs": [],
   "source": [
    "data = json.load(f)"
   ]
  },
  {
   "cell_type": "code",
   "execution_count": 7,
   "id": "29b3982e-febb-499c-9462-deb8075bffa2",
   "metadata": {},
   "outputs": [],
   "source": [
    "f.close()"
   ]
  },
  {
   "cell_type": "code",
   "execution_count": null,
   "id": "3333cf5d-bab0-469e-902a-2a12ba34d850",
   "metadata": {},
   "outputs": [],
   "source": [
    "\n",
    "file_names = []\n",
    "\n",
    "def load_images_from_folder(folder):\n",
    "  count = 0\n",
    "  for filename in os.listdir(folder):\n",
    "        source = os.path.join(folder,filename)\n",
    "        destination = f\"{output_path}images/img{count}.jpg\"\n",
    "\n",
    "        try:\n",
    "            shutil.copy(source, destination)\n",
    "            print(\"File copied successfully.\")\n",
    "        # If source and destination are same\n",
    "        except shutil.SameFileError:\n",
    "            print(\"Source and destination represents the same file.\")\n",
    "\n",
    "        file_names.append(filename)\n",
    "        count += 1\n",
    "\n",
    "load_images_from_folder('train_images')"
   ]
  },
  {
   "cell_type": "code",
   "execution_count": null,
   "id": "7a1d5d33-4217-4a8e-908d-b1a0f90d1cb3",
   "metadata": {},
   "outputs": [],
   "source": [
    "def get_img_ann(image_id):\n",
    "    img_ann = []\n",
    "    isFound = False\n",
    "    for ann in data['annotations']:\n",
    "        if ann['image_id'] == image_id:\n",
    "            img_ann.append(ann)\n",
    "            isFound = True\n",
    "    if isFound:\n",
    "        return img_ann\n",
    "    else:\n",
    "        return None"
   ]
  },
  {
   "cell_type": "code",
   "execution_count": null,
   "id": "bfbe33fd-bc95-47be-b57b-144e970ad6b0",
   "metadata": {},
   "outputs": [],
   "source": [
    "\n",
    "def get_img(filename):\n",
    "  for img in data['images']:\n",
    "    if img['file_name'] == filename:\n",
    "      return img"
   ]
  },
  {
   "cell_type": "code",
   "execution_count": null,
   "id": "d3ef8f1a-e4d0-4dc5-8faf-6fb71fef96d6",
   "metadata": {},
   "outputs": [],
   "source": [
    "count = 0\n",
    "\n",
    "for filename in file_names:\n",
    "  # Extracting image \n",
    "  img = get_img(filename)\n",
    "  img_id = img['id']\n",
    "  img_w = img['width']\n",
    "  img_h = img['height']\n",
    "\n",
    "  # Get Annotations for this image\n",
    "  img_ann = get_img_ann(img_id)\n",
    "\n",
    "  if img_ann:\n",
    "    # Opening file for current image\n",
    "    file_object = open(f\"{output_path}labels/img{count}.txt\", \"a\")\n",
    "\n",
    "    for ann in img_ann:\n",
    "      current_category = ann['category_id'] - 1 # As yolo format labels start from 0 \n",
    "      current_bbox = ann['bbox']\n",
    "      x = current_bbox[0]\n",
    "      y = current_bbox[1]\n",
    "      w = current_bbox[2]\n",
    "      h = current_bbox[3]\n",
    "      \n",
    "      # Finding midpoints\n",
    "      x_centre = (x + (x+w))/2\n",
    "      y_centre = (y + (y+h))/2\n",
    "      \n",
    "      # Normalization\n",
    "      x_centre = x_centre / img_w\n",
    "      y_centre = y_centre / img_h\n",
    "      w = w / img_w\n",
    "      h = h / img_h\n",
    "      \n",
    "      # Limiting upto fix number of decimal places\n",
    "      x_centre = format(x_centre, '.6f')\n",
    "      y_centre = format(y_centre, '.6f')\n",
    "      w = format(w, '.6f')\n",
    "      h = format(h, '.6f')\n",
    "          \n",
    "      # Writing current object \n",
    "      file_object.write(f\"{current_category} {x_centre} {y_centre} {w} {h}\\n\")\n",
    "\n",
    "    file_object.close()\n",
    "    count += 1  # This should be outside the if img_ann block"
   ]
  },
  {
   "cell_type": "code",
   "execution_count": null,
   "id": "cf80d8a2-5a78-4b63-9daf-9a14e02525f2",
   "metadata": {},
   "outputs": [],
   "source": []
  },
  {
   "cell_type": "code",
   "execution_count": null,
   "id": "77108dfe-e269-424f-984c-efa5bca48427",
   "metadata": {},
   "outputs": [],
   "source": []
  },
  {
   "cell_type": "code",
   "execution_count": null,
   "id": "f2a78ca5-308c-434a-96c2-c0e36ac8378e",
   "metadata": {},
   "outputs": [],
   "source": []
  }
 ],
 "metadata": {
  "kernelspec": {
   "display_name": "Python 3 (ipykernel)",
   "language": "python",
   "name": "python3"
  },
  "language_info": {
   "codemirror_mode": {
    "name": "ipython",
    "version": 3
   },
   "file_extension": ".py",
   "mimetype": "text/x-python",
   "name": "python",
   "nbconvert_exporter": "python",
   "pygments_lexer": "ipython3",
   "version": "3.10.12"
  }
 },
 "nbformat": 4,
 "nbformat_minor": 5
}
