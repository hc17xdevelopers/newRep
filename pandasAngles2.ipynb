{
 "cells": [
  {
   "cell_type": "code",
   "execution_count": null,
   "metadata": {},
   "outputs": [],
   "source": [
    "import os\n",
    "import pandas as pd\n",
    "import matplotlib.pyplot as plt\n",
    "\n",
    "# Create an empty list outside the loop to store data\n",
    "data_list = []\n",
    "\n",
    "# Inside the main loop\n",
    "for file_name in os.listdir(img_folder):\n",
    "    if file_name.endswith(('.jpg', '.png', '.jpeg')):\n",
    "        img_path = os.path.join(img_folder, file_name)\n",
    "        image_output = calculate_pointer_angle(img_path)\n",
    "\n",
    "        # Check if the angles are valid before appending to the list\n",
    "        if all(angle is not None for angle in image_output):\n",
    "            data_list.append({'File': file_name, 'Angle_ABC': image_output[0], 'Angle_BDC': image_output[1]})\n",
    "\n",
    "# Create a DataFrame from the list\n",
    "angles_df = pd.DataFrame(data_list)\n",
    "\n",
    "# Save the DataFrame to an Excel file (optional)\n",
    "angles_df.to_excel('angles_data.xlsx', index=False)\n",
    "\n",
    "# Plotting\n",
    "plt.figure(figsize=(10, 6))\n",
    "plt.plot(angles_df['File'], angles_df['Angle_ABC'], label='Angle ABC')\n",
    "plt.plot(angles_df['File'], angles_df['Angle_BDC'], label='Angle BDC')\n",
    "\n",
    "plt.xlabel('Image File')\n",
    "plt.ylabel('Angles (degrees)')\n",
    "plt.title('Variation of Angles for Each Image')\n",
    "plt.xticks(rotation=45, ha='right')\n",
    "plt.legend()\n",
    "plt.tight_layout()\n",
    "\n",
    "# Show the plot\n",
    "plt.show()\n"
   ]
  }
 ],
 "metadata": {
  "language_info": {
   "name": "python"
  }
 },
 "nbformat": 4,
 "nbformat_minor": 2
}
