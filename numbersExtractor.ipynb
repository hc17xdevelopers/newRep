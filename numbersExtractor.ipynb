{
 "cells": [
  {
   "cell_type": "code",
   "execution_count": null,
   "metadata": {},
   "outputs": [],
   "source": [
    "import pandas as pd\n",
    "\n",
    "# Sample DataFrame\n",
    "data = {'File': ['frame123.jpg', 'frame1000.jpg', 'frame42.jpg']}\n",
    "df = pd.DataFrame(data)\n",
    "\n",
    "# Extract only the numerical part from the 'File' column\n",
    "df['File'] = df['File'].str.extract('(\\d+)')\n",
    "\n",
    "# Convert the result to numeric (optional)\n",
    "df['File'] = pd.to_numeric(df['File'])\n",
    "\n",
    "# Display the DataFrame\n",
    "print(df)\n"
   ]
  }
 ],
 "metadata": {
  "language_info": {
   "name": "python"
  }
 },
 "nbformat": 4,
 "nbformat_minor": 2
}
