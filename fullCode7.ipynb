{
 "cells": [
  {
   "cell_type": "code",
   "execution_count": null,
   "metadata": {},
   "outputs": [],
   "source": [
    "import os\n",
    "\n",
    "# ... (Your existing imports)\n",
    "\n",
    "def process_images_in_folder(folder_path):\n",
    "    for file_name in os.listdir(folder_path):\n",
    "        if file_name.endswith(('.jpg', '.png', '.jpeg')):  # Add other image formats if needed\n",
    "            img_path = os.path.join(folder_path, file_name)\n",
    "            image_output = calculate_pointer_angle(img_path)\n",
    "            save_to_excel(file_name, *image_output)\n",
    "\n",
    "def save_to_excel(file_name, angle_ABC, angle_BDC):\n",
    "    excel_path = 'angles_results.xlsx'\n",
    "    data = {'File': [file_name], 'Angle_ABC': [angle_ABC], 'Angle_BDC': [angle_BDC]}\n",
    "    df = pd.DataFrame(data)\n",
    "\n",
    "    if not os.path.isfile(excel_path):\n",
    "        df.to_excel(excel_path, index=False)\n",
    "    else:\n",
    "        # Append without writing the header\n",
    "        df.to_excel(excel_path, index=False, header=False, mode='a')\n",
    "\n",
    "if __name__ == \"__main__\":\n",
    "    image_folder = '/path/to/your/images/folder'  # Update this to the path of your image folder\n",
    "    process_images_in_folder(image_folder)\n"
   ]
  }
 ],
 "metadata": {
  "language_info": {
   "name": "python"
  }
 },
 "nbformat": 4,
 "nbformat_minor": 2
}
